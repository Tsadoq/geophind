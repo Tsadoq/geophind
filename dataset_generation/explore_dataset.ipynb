{
 "cells": [
  {
   "cell_type": "code",
   "id": "initial_id",
   "metadata": {
    "collapsed": true,
    "ExecuteTime": {
     "end_time": "2024-07-16T14:45:17.323770Z",
     "start_time": "2024-07-16T14:45:17.321991Z"
    }
   },
   "source": [
    "import cv2\n",
    "import os\n",
    "\n",
    "import pandas as pd\n",
    "from tqdm.auto import tqdm"
   ],
   "outputs": [],
   "execution_count": 10
  },
  {
   "metadata": {
    "ExecuteTime": {
     "end_time": "2024-07-16T19:39:02.644978Z",
     "start_time": "2024-07-16T19:39:02.305711Z"
    }
   },
   "cell_type": "code",
   "source": "points_df = pd.read_pickle('coord_points.pkl')",
   "id": "8663842a7c0f60a4",
   "outputs": [],
   "execution_count": 29
  },
  {
   "metadata": {
    "ExecuteTime": {
     "end_time": "2024-07-16T19:40:52.421665Z",
     "start_time": "2024-07-16T19:40:52.413402Z"
    }
   },
   "cell_type": "code",
   "source": "points_df.value_counts('geounit')",
   "id": "7cd24fc8fae2bc1f",
   "outputs": [
    {
     "data": {
      "text/plain": [
       "geounit\n",
       "Antarctica                              1030\n",
       "Russia                                   997\n",
       "Canada                                   972\n",
       "United States of America                 954\n",
       "China                                    946\n",
       "                                        ... \n",
       "Kiribati                                 103\n",
       "Bajo Nuevo Bank (Petrel Is.)              67\n",
       "Coral Sea Islands                         43\n",
       "Vatican                                   30\n",
       "United States Minor Outlying Islands       8\n",
       "Name: count, Length: 258, dtype: int64"
      ]
     },
     "execution_count": 35,
     "metadata": {},
     "output_type": "execute_result"
    }
   ],
   "execution_count": 35
  },
  {
   "metadata": {
    "ExecuteTime": {
     "end_time": "2024-07-16T14:44:49.263138Z",
     "start_time": "2024-07-16T14:44:49.253412Z"
    }
   },
   "cell_type": "code",
   "source": [
    "cwd = os.getcwd()+'/images/'\n",
    "onlyfiles = [os.path.join(cwd, f) for f in os.listdir(cwd) if \n",
    "os.path.isfile(os.path.join(cwd, f))]"
   ],
   "id": "d020108a97eb5df",
   "outputs": [],
   "execution_count": 7
  },
  {
   "metadata": {
    "ExecuteTime": {
     "end_time": "2024-07-16T14:45:03.706898Z",
     "start_time": "2024-07-16T14:44:51.574250Z"
    }
   },
   "cell_type": "code",
   "source": [
    "list_img_files = []\n",
    "for file in tqdm(onlyfiles):\n",
    "        im = cv2.imread(file)\n",
    "        h, w, c = im.shape\n",
    "        list_img_files.append(\n",
    "                {\n",
    "                        'filename': file,\n",
    "                        'width': w,\n",
    "                        'height': h,\n",
    "                        'channel': c,\n",
    "                }\n",
    "        )"
   ],
   "id": "deffe816d62a9d43",
   "outputs": [
    {
     "data": {
      "text/plain": [
       "  0%|          | 0/997 [00:00<?, ?it/s]"
      ],
      "application/vnd.jupyter.widget-view+json": {
       "version_major": 2,
       "version_minor": 0,
       "model_id": "dc8450760b9143f2a320aaed66ad1d47"
      }
     },
     "metadata": {},
     "output_type": "display_data"
    }
   ],
   "execution_count": 8
  },
  {
   "metadata": {
    "ExecuteTime": {
     "end_time": "2024-07-16T14:45:20.009863Z",
     "start_time": "2024-07-16T14:45:20.003029Z"
    }
   },
   "cell_type": "code",
   "source": "img_df = pd.DataFrame(list_img_files)",
   "id": "d0797f7e5e9fd303",
   "outputs": [],
   "execution_count": 11
  },
  {
   "metadata": {
    "ExecuteTime": {
     "end_time": "2024-07-16T14:45:39.673904Z",
     "start_time": "2024-07-16T14:45:39.666476Z"
    }
   },
   "cell_type": "code",
   "source": "img_df.value_counts(['width','height'])",
   "id": "2f616cb4f447d8be",
   "outputs": [
    {
     "data": {
      "text/plain": [
       "width  height\n",
       "2048   1152      367\n",
       "       1536      286\n",
       "       1024      150\n",
       "1920   1080       92\n",
       "1280   720        50\n",
       "1600   1300       20\n",
       "2048   2048       14\n",
       "       1156        5\n",
       "1280   768         4\n",
       "1024   768         3\n",
       "2048   1080        3\n",
       "       1147        3\n",
       "Name: count, dtype: int64"
      ]
     },
     "execution_count": 13,
     "metadata": {},
     "output_type": "execute_result"
    }
   ],
   "execution_count": 13
  },
  {
   "metadata": {
    "ExecuteTime": {
     "end_time": "2024-07-16T15:03:22.953330Z",
     "start_time": "2024-07-16T15:03:22.949588Z"
    }
   },
   "cell_type": "code",
   "source": "crop_size = 700",
   "id": "329e79b1d5c72768",
   "outputs": [],
   "execution_count": 15
  },
  {
   "metadata": {
    "ExecuteTime": {
     "end_time": "2024-07-16T15:04:53.676445Z",
     "start_time": "2024-07-16T15:04:40.332737Z"
    }
   },
   "cell_type": "code",
   "source": [
    "for file in tqdm(onlyfiles):\n",
    "        img = cv2.imread(file)\n",
    "        height, width, _ = img.shape        \n",
    "        center_x, center_y = width // 2, height // 2\n",
    "        start_x = center_x - crop_size // 2\n",
    "        start_y = center_y - crop_size // 2\n",
    "        cropped_image = img[start_y:start_y + crop_size, start_x:start_x + crop_size]\n",
    "        cv2.imwrite(f'./images_cropped/{file.split(\"/\")[-1]}', cropped_image)"
   ],
   "id": "c3be4e15696bc473",
   "outputs": [
    {
     "data": {
      "text/plain": [
       "  0%|          | 0/997 [00:00<?, ?it/s]"
      ],
      "application/vnd.jupyter.widget-view+json": {
       "version_major": 2,
       "version_minor": 0,
       "model_id": "f1d82041cf8848bc814e79b8869c5494"
      }
     },
     "metadata": {},
     "output_type": "display_data"
    }
   ],
   "execution_count": 18
  },
  {
   "metadata": {
    "ExecuteTime": {
     "end_time": "2024-07-16T19:35:50.918949Z",
     "start_time": "2024-07-16T19:35:50.908978Z"
    }
   },
   "cell_type": "code",
   "source": [
    "cwd = os.getcwd()+'/metadata/'\n",
    "onlyfiles = [os.path.join(cwd, f) for f in os.listdir(cwd) if \n",
    "os.path.isfile(os.path.join(cwd, f))]\n"
   ],
   "id": "5844329b94aa6171",
   "outputs": [],
   "execution_count": 25
  },
  {
   "metadata": {
    "ExecuteTime": {
     "end_time": "2024-07-16T19:35:52.929716Z",
     "start_time": "2024-07-16T19:35:52.413628Z"
    }
   },
   "cell_type": "code",
   "source": [
    "list_df = []\n",
    "\n",
    "for file in tqdm(onlyfiles):\n",
    "        list_df.append(\n",
    "                pd.read_csv(file)\n",
    "        )"
   ],
   "id": "7a51360235e49b3a",
   "outputs": [
    {
     "data": {
      "text/plain": [
       "  0%|          | 0/948 [00:00<?, ?it/s]"
      ],
      "application/vnd.jupyter.widget-view+json": {
       "version_major": 2,
       "version_minor": 0,
       "model_id": "3632ed80f0f64445a53e47ec43e0f2d3"
      }
     },
     "metadata": {},
     "output_type": "display_data"
    }
   ],
   "execution_count": 26
  },
  {
   "metadata": {
    "ExecuteTime": {
     "end_time": "2024-07-16T19:35:54.028201Z",
     "start_time": "2024-07-16T19:35:53.995772Z"
    }
   },
   "cell_type": "code",
   "source": "final_df = pd.concat(list_df)",
   "id": "f3e23bed5ec84e4e",
   "outputs": [],
   "execution_count": 27
  },
  {
   "metadata": {
    "ExecuteTime": {
     "end_time": "2024-07-16T19:43:18.879860Z",
     "start_time": "2024-07-16T19:43:18.875735Z"
    }
   },
   "cell_type": "code",
   "source": "final_df.value_counts('country')",
   "id": "3328cf364d38be97",
   "outputs": [
    {
     "data": {
      "text/plain": [
       "country\n",
       "Dhekelia Sovereign Base Area    5054\n",
       "Cyprus                          4609\n",
       "Palestine                       2743\n",
       "Israel                          1618\n",
       "Lebanon                          579\n",
       "Malaysia                         350\n",
       "Chile                            199\n",
       "India                            166\n",
       "Indonesia                        148\n",
       "Bolivia                          107\n",
       "Argentina                        105\n",
       "Peru                              98\n",
       "China                             34\n",
       "Ethiopia                           4\n",
       "Name: count, dtype: int64"
      ]
     },
     "execution_count": 37,
     "metadata": {},
     "output_type": "execute_result"
    }
   ],
   "execution_count": 37
  },
  {
   "metadata": {},
   "cell_type": "code",
   "outputs": [],
   "execution_count": null,
   "source": "",
   "id": "21a497548a6c12c6"
  }
 ],
 "metadata": {
  "kernelspec": {
   "display_name": "Python 3",
   "language": "python",
   "name": "python3"
  },
  "language_info": {
   "codemirror_mode": {
    "name": "ipython",
    "version": 2
   },
   "file_extension": ".py",
   "mimetype": "text/x-python",
   "name": "python",
   "nbconvert_exporter": "python",
   "pygments_lexer": "ipython2",
   "version": "2.7.6"
  }
 },
 "nbformat": 4,
 "nbformat_minor": 5
}
